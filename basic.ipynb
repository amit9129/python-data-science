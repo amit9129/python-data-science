{
 "cells": [
  {
   "cell_type": "code",
   "execution_count": null,
   "metadata": {},
   "outputs": [],
   "source": [
    "p = 120000\n",
    "r = 1.23\n",
    "t = 10 \n",
    "si = p*r*t/100\n",
    "print(si)"
   ]
  },
  {
   "cell_type": "code",
   "execution_count": null,
   "metadata": {},
   "outputs": [],
   "source": [
    "a = 3902\n",
    "b = 325.52\n",
    "c = \"this is a code\"\n",
    "d = True\n",
    "e = None\n"
   ]
  },
  {
   "cell_type": "code",
   "execution_count": null,
   "metadata": {},
   "outputs": [],
   "source": [
    "fruit  = [\"apple\" , \"banana\", \"cherry\"] \n",
    "coords = (23.63,5220.55)\n",
    "person = {\"name : John\",\"age : 36 \"}\n",
    "movies = {'avengers','ironman'}"
   ]
  },
  {
   "cell_type": "code",
   "execution_count": null,
   "metadata": {},
   "outputs": [],
   "source": [
    "\"apple\" in fruit\n"
   ]
  },
  {
   "cell_type": "code",
   "execution_count": null,
   "metadata": {},
   "outputs": [],
   "source": [
    "\"avocado\" in fruit\n"
   ]
  },
  {
   "cell_type": "code",
   "execution_count": null,
   "metadata": {},
   "outputs": [],
   "source": [
    "\"apple\" not in fruit"
   ]
  },
  {
   "cell_type": "code",
   "execution_count": null,
   "metadata": {},
   "outputs": [],
   "source": [
    "\"avocado\" not in fruit"
   ]
  },
  {
   "cell_type": "markdown",
   "metadata": {},
   "source": [
    "input and output"
   ]
  },
  {
   "cell_type": "code",
   "execution_count": null,
   "metadata": {},
   "outputs": [],
   "source": [
    "name = input(\"enter you name\")"
   ]
  },
  {
   "cell_type": "code",
   "execution_count": null,
   "metadata": {},
   "outputs": [],
   "source": [
    "iq = int(input(\"What your iq (1-150)\"))"
   ]
  },
  {
   "cell_type": "code",
   "execution_count": null,
   "metadata": {},
   "outputs": [],
   "source": [
    "pi = 22/7\n",
    "radius = float(input(\"Radius:\"))\n",
    "area = pi * r ** 2"
   ]
  },
  {
   "cell_type": "code",
   "execution_count": null,
   "metadata": {},
   "outputs": [],
   "source": [
    "print(area)\n",
    "print(\"apple\" , \"banana\", \"cherry\",sep = \",\")\n",
    "print(\"apple\" , \"banana\", \"cherry\",sep='\\n')"
   ]
  },
  {
   "cell_type": "code",
   "execution_count": null,
   "metadata": {},
   "outputs": [],
   "source": [
    "print(f\"for a radius of {r}, the area is {area:.1f}\")"
   ]
  },
  {
   "cell_type": "code",
   "execution_count": null,
   "metadata": {},
   "outputs": [],
   "source": [
    "print(f'Integer {a}')\n",
    "print(f'Float {b}')\n",
    "print(f'String {c}')\n",
    "print(f'Boolean {d}')\n",
    "print(f'NoneType {e}')\n"
   ]
  },
  {
   "cell_type": "code",
   "execution_count": 3,
   "metadata": {},
   "outputs": [],
   "source": [
    "from turtle import *"
   ]
  },
  {
   "cell_type": "code",
   "execution_count": 4,
   "metadata": {},
   "outputs": [],
   "source": [
    "forward(100)\n",
    "left(90)\n",
    "forward(100)\n",
    "left(90)\n",
    "forward(100)\n",
    "left(90)\n",
    "forward(100)"
   ]
  },
  {
   "cell_type": "code",
   "execution_count": 5,
   "metadata": {},
   "outputs": [],
   "source": [
    "from turtle import *\n",
    "s = getscreen()\n",
    "t = Turtle()\n",
    "t.right(90)\n",
    "t.forward(100)\n",
    "t.left(90)\n",
    "t.backward(100)\n",
    "mainloop()\n",
    "\n",
    "\n",
    "    "
   ]
  },
  {
   "cell_type": "code",
   "execution_count": 6,
   "metadata": {},
   "outputs": [
    {
     "ename": "Terminator",
     "evalue": "",
     "output_type": "error",
     "traceback": [
      "\u001b[1;31m---------------------------------------------------------------------------\u001b[0m",
      "\u001b[1;31mTerminator\u001b[0m                                Traceback (most recent call last)",
      "Cell \u001b[1;32mIn[6], line 2\u001b[0m\n\u001b[0;32m      1\u001b[0m \u001b[38;5;28;01mfrom\u001b[39;00m \u001b[38;5;21;01mturtle\u001b[39;00m \u001b[38;5;28;01mimport\u001b[39;00m \u001b[38;5;241m*\u001b[39m\n\u001b[1;32m----> 2\u001b[0m s \u001b[38;5;241m=\u001b[39m getscreen()\n\u001b[0;32m      3\u001b[0m t \u001b[38;5;241m=\u001b[39m Turtle()\n\u001b[0;32m      4\u001b[0m t\u001b[38;5;241m.\u001b[39mfd(\u001b[38;5;241m100\u001b[39m)\n",
      "File \u001b[1;32m<string>:5\u001b[0m, in \u001b[0;36mgetscreen\u001b[1;34m()\u001b[0m\n",
      "\u001b[1;31mTerminator\u001b[0m: "
     ]
    }
   ],
   "source": [
    "from turtle import *\n",
    "s = getscreen()\n",
    "t = Turtle()\n",
    "t.fd(100)\n",
    "t.rt(90)\n",
    "t.fd(100)\n",
    "t.rt(90)\n",
    "t.fd(100)\n",
    "t.rt(90)\n",
    "t.fd(100)\n",
    "mainloop()"
   ]
  },
  {
   "cell_type": "code",
   "execution_count": 1,
   "metadata": {},
   "outputs": [],
   "source": [
    "import turtle\n",
    "\n",
    "# Create a turtle object\n",
    "circle = turtle.Turtle()\n",
    "\n",
    "# Draw a circle\n",
    "circle.circle(100)  # radius = 100\n",
    "\n",
    "# Close the window when clicked\n",
    "turtle.done()\n"
   ]
  },
  {
   "cell_type": "code",
   "execution_count": 1,
   "metadata": {},
   "outputs": [],
   "source": [
    "from turtle import *\n",
    "s = getscreen()\n",
    "t = Turtle()\n",
    "t.fd(100)\n",
    "t.lt(72)\n",
    "t.fd(100)\n",
    "t.lt(72)\n",
    "t.fd(100)\n",
    "t.lt(72)\n",
    "t.fd(100)\n",
    "t.lt(72)\n",
    "t.fd(100)\n",
    "t.lt(72)\n",
    "mainloop()\n",
    "\n",
    "# pentagon builting method"
   ]
  },
  {
   "cell_type": "code",
   "execution_count": 3,
   "metadata": {},
   "outputs": [],
   "source": [
    "# Octagon building with a loop\n",
    "from turtle import *\n",
    "\n",
    "s = getscreen()\n",
    "t = Turtle()\n",
    "for i in range(8): # Do it 8 times\n",
    "    t.fd(100) # create 100px line\n",
    "    t.lt(45) # Rotate 45 deg\n",
    "mainloop()"
   ]
  },
  {
   "cell_type": "code",
   "execution_count": 7,
   "metadata": {},
   "outputs": [],
   "source": [
    "# Colored shapes\n",
    "\n",
    "from turtle import *\n",
    "\n",
    "fillcolor('red') # Set filling color to red\n",
    "begin_fill() # set before the shape creation code\n",
    "for i in range(5): # create a shape\n",
    "    fd(100)\n",
    "    lt(72)\n",
    "end_fill() # Tell turtle to fill the color m shape\n",
    "fillcolor('yellow') # same concept for circle color\n",
    "begin_fill()\n",
    "circle(50)\n",
    "end_fill\n",
    "mainloop()"
   ]
  },
  {
   "cell_type": "code",
   "execution_count": 9,
   "metadata": {},
   "outputs": [],
   "source": [
    "# Concentric squares\n",
    "\n",
    "from turtle import *\n",
    "\n",
    "speed('slow')\n",
    "pencolor('red')\n",
    "for i in range(100):\n",
    "    fd(i*3+5)\n",
    "    lt(90)\n",
    "\n",
    "mainloop()"
   ]
  },
  {
   "cell_type": "code",
   "execution_count": 1,
   "metadata": {},
   "outputs": [],
   "source": [
    "from turtle import * \n",
    "s = Screen()\n",
    "s.setup(1000,700)\n",
    "colors = ['purple', 'blue']\n",
    "pencolor('green')\n",
    "pensize(5)\n",
    "for i in range(6,0,-1):\n",
    "    penup()\n",
    "    setpos(0,-20*i)\n",
    "    pendown()\n",
    "    fillcolor(colors[i%2])\n",
    "    begin_fill()\n",
    "    circle(20*i)\n",
    "    end_fill()\n",
    "mainloop()"
   ]
  },
  {
   "cell_type": "code",
   "execution_count": 1,
   "metadata": {},
   "outputs": [],
   "source": [
    "#A flower with petals\n",
    "\n",
    "from turtle import * \n",
    "s = Screen()\n",
    "s.setup(500,500)\n",
    "fillcolor('red')\n",
    "pencolor('red')\n",
    "for i in range (5):\n",
    "    lt(72)\n",
    "    penup()\n",
    "    fd(80)\n",
    "    pendown()\n",
    "    begin_fill()\n",
    "    circle(40)\n",
    "    end_fill()\n",
    "    penup()\n",
    "    bk(80)\n",
    "    pendown()\n",
    "\n",
    "mainloop()"
   ]
  },
  {
   "cell_type": "code",
   "execution_count": 1,
   "metadata": {},
   "outputs": [],
   "source": [
    "from turtle import *\n",
    "s = Screen()\n",
    "s.setup(400,400)\n",
    "s.bgcolor('black')\n",
    "\n",
    "pencolor('yellow')\n",
    "for i in range(5):\n",
    "    lt(72)\n",
    "    for i in range(5):\n",
    "        fd(100)\n",
    "        rt(144)\n",
    "mainloop()"
   ]
  },
  {
   "cell_type": "code",
   "execution_count": 1,
   "metadata": {},
   "outputs": [],
   "source": [
    "from turtle import *\n",
    "bgcolor('black')\n",
    "speed('fastest')\n",
    "colors = ['red','purple', 'blue', 'green', 'yellow', 'orange']\n",
    "\n",
    "for x in range(360):\n",
    "    pencolor(colors[x%6])\n",
    "    width(x/100+1)\n",
    "    forward(x)\n",
    "    left(59)\n",
    "mainloop()"
   ]
  },
  {
   "cell_type": "code",
   "execution_count": null,
   "metadata": {},
   "outputs": [],
   "source": []
  }
 ],
 "metadata": {
  "kernelspec": {
   "display_name": "base",
   "language": "python",
   "name": "python3"
  },
  "language_info": {
   "codemirror_mode": {
    "name": "ipython",
    "version": 3
   },
   "file_extension": ".py",
   "mimetype": "text/x-python",
   "name": "python",
   "nbconvert_exporter": "python",
   "pygments_lexer": "ipython3",
   "version": "3.11.5"
  }
 },
 "nbformat": 4,
 "nbformat_minor": 2
}
