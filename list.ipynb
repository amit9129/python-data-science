{
 "cells": [
  {
   "cell_type": "markdown",
   "metadata": {},
   "source": [
    "Python collection \n",
    "-> list\n",
    "-> tuple\n",
    "-> Set\n",
    "-> dictionary"
   ]
  },
  {
   "cell_type": "code",
   "execution_count": 4,
   "metadata": {},
   "outputs": [],
   "source": [
    "List1 = ['Nikhil', 'Aman', 'Rahul', 'Devanshi','Rishaabh']\n",
    "list2 = [1,2,3,4,5,6,7,8,9,10,11]\n",
    "list3 = ['Ravi',90,102,93,29,4,\"B\",False,5.786 ]\n",
    "list4 = [[1,2,3,], ['3,4,5,7'],[2,1]]"
   ]
  },
  {
   "cell_type": "code",
   "execution_count": 3,
   "metadata": {},
   "outputs": [
    {
     "name": "stdout",
     "output_type": "stream",
     "text": [
      "['Nikhil', 'Aman', 'Rahul', 'Devanshi', 'Rishaabh']\n",
      "[1, 2, 3, 4, 5, 6, 7, 8, 9, 10, 11]\n",
      "['Ravi', 90, 102, 93, 29, 4, 'B', False, 5.786]\n",
      "[[1, 2, 3], ['3,4,5,7'], [2, 1]]\n"
     ]
    }
   ],
   "source": []
  },
  {
   "cell_type": "code",
   "execution_count": 5,
   "metadata": {},
   "outputs": [],
   "source": [
    "data = [\n",
    "    'warbreaker', 'brandon Sanderson',\n",
    "    'high fantasy', '890',\n",
    "    '2015', 'tor' , 'codmere'\n",
    "]"
   ]
  },
  {
   "cell_type": "code",
   "execution_count": 6,
   "metadata": {},
   "outputs": [
    {
     "name": "stdout",
     "output_type": "stream",
     "text": [
      "warbreaker\n"
     ]
    }
   ],
   "source": [
    "print(data[0])"
   ]
  },
  {
   "cell_type": "code",
   "execution_count": 7,
   "metadata": {},
   "outputs": [
    {
     "name": "stdout",
     "output_type": "stream",
     "text": [
      "['warbreaker', 'brandon Sanderson', 'high fantasy', '890']\n"
     ]
    }
   ],
   "source": [
    "print(data[:-3])\n"
   ]
  },
  {
   "cell_type": "code",
   "execution_count": 8,
   "metadata": {},
   "outputs": [
    {
     "name": "stdout",
     "output_type": "stream",
     "text": [
      "['codmere', 'tor', '2015', '890', 'high fantasy', 'brandon Sanderson', 'warbreaker']\n"
     ]
    }
   ],
   "source": [
    "print(data[::-1]) # reverse order"
   ]
  },
  {
   "cell_type": "code",
   "execution_count": 10,
   "metadata": {},
   "outputs": [
    {
     "name": "stdout",
     "output_type": "stream",
     "text": [
      "['warbreaker', 'high fantasy', '2015', 'codmere']\n"
     ]
    }
   ],
   "source": [
    "print(data[::2])# evry other element"
   ]
  },
  {
   "cell_type": "code",
   "execution_count": 11,
   "metadata": {},
   "outputs": [
    {
     "name": "stdout",
     "output_type": "stream",
     "text": [
      "['2015', '890', 'brandon Sanderson', 'codmere', 'high fantasy', 'tor', 'warbreaker']\n"
     ]
    }
   ],
   "source": [
    "data.sort()\n",
    "print(data)"
   ]
  },
  {
   "cell_type": "code",
   "execution_count": 12,
   "metadata": {},
   "outputs": [],
   "source": [
    "data.sort(reverse = True) # sort"
   ]
  },
  {
   "cell_type": "code",
   "execution_count": 14,
   "metadata": {},
   "outputs": [
    {
     "name": "stdout",
     "output_type": "stream",
     "text": [
      "['2015', '890', 'brandon Sanderson', 'codmere', 'high fantasy', 'tor', 'warbreaker']\n"
     ]
    }
   ],
   "source": [
    "print(data)"
   ]
  },
  {
   "cell_type": "code",
   "execution_count": 16,
   "metadata": {},
   "outputs": [
    {
     "data": {
      "text/plain": [
       "1"
      ]
     },
     "execution_count": 16,
     "metadata": {},
     "output_type": "execute_result"
    }
   ],
   "source": [
    "data.index('890')"
   ]
  },
  {
   "cell_type": "code",
   "execution_count": 17,
   "metadata": {},
   "outputs": [
    {
     "name": "stdout",
     "output_type": "stream",
     "text": [
      "['apple', 'Banana', 'cherry', 'Guava', 'Orange', 'kiwi', 'grape', 'pineapple']\n"
     ]
    }
   ],
   "source": [
    "fruits = []\n",
    "fruits.append('apple')\n",
    "fruits.append('Banana')\n",
    "fruits.append('cherry')\n",
    "fruits.append('Guava')\n",
    "fruits.append('Orange')\n",
    "fruits.append('kiwi')\n",
    "fruits.append('grape')\n",
    "fruits.append('pineapple')\n",
    "print(fruits)"
   ]
  },
  {
   "cell_type": "code",
   "execution_count": 26,
   "metadata": {},
   "outputs": [],
   "source": [
    "fruits.insert(-2, 'mango')\n",
    "fruits.insert(2, 'pear')\n"
   ]
  },
  {
   "cell_type": "code",
   "execution_count": 25,
   "metadata": {},
   "outputs": [
    {
     "name": "stdout",
     "output_type": "stream",
     "text": [
      "['mango', 'apple', 'mango', 'Banana', 'cherry', 'Guava', 'Orange', 'kiwi', 'grape', 'mango', 'mango', 'pineapple']\n"
     ]
    }
   ],
   "source": [
    "print(fruits)"
   ]
  },
  {
   "cell_type": "code",
   "execution_count": 29,
   "metadata": {},
   "outputs": [
    {
     "name": "stdout",
     "output_type": "stream",
     "text": [
      "['mango', 'pear', 'mango', 'Banana', 'cherry', 'Guava', 'Orange', 'kiwi', 'grape', 'mango', 'mango', 'mango', 'pineapple', 'Almonds', 'cashew', 'walnut', 'Almonds', 'cashew', 'walnut']\n"
     ]
    }
   ],
   "source": [
    "dry_fruit = ['Almonds','cashew','walnut']\n",
    "fruits.extend(dry_fruit)\n",
    "print(fruits)"
   ]
  },
  {
   "cell_type": "code",
   "execution_count": 32,
   "metadata": {},
   "outputs": [
    {
     "name": "stdout",
     "output_type": "stream",
     "text": [
      "['pear', 'mango', 'Banana', 'cherry', 'Guava', 'Orange', 'kiwi', 'grape', 'mango', 'mango', 'mango', 'pineapple', 'Almonds', 'cashew', 'walnut', 'Almonds', 'cashew', 'walnut']\n"
     ]
    }
   ],
   "source": [
    "fruits.remove('mango')\n",
    "print(fruits)"
   ]
  },
  {
   "cell_type": "code",
   "execution_count": 36,
   "metadata": {},
   "outputs": [
    {
     "name": "stdout",
     "output_type": "stream",
     "text": [
      "cherry\n"
     ]
    }
   ],
   "source": [
    "removed_fruit = fruits.pop(3)\n",
    "print(removed_fruit)\n"
   ]
  },
  {
   "cell_type": "code",
   "execution_count": 37,
   "metadata": {},
   "outputs": [
    {
     "name": "stdout",
     "output_type": "stream",
     "text": [
      "cherry\n"
     ]
    }
   ],
   "source": [
    "print(removed_fruit)"
   ]
  },
  {
   "cell_type": "code",
   "execution_count": 38,
   "metadata": {},
   "outputs": [
    {
     "name": "stdout",
     "output_type": "stream",
     "text": [
      "['pear', 'mango', 'Banana', 'Guava', 'Orange', 'kiwi', 'grape', 'mango', 'mango', 'mango', 'pineapple', 'Almonds', 'cashew', 'walnut', 'Almonds', 'cashew', 'walnut']\n"
     ]
    }
   ],
   "source": [
    "print(fruits)"
   ]
  },
  {
   "cell_type": "code",
   "execution_count": 39,
   "metadata": {},
   "outputs": [
    {
     "name": "stdout",
     "output_type": "stream",
     "text": [
      "walnut\n"
     ]
    }
   ],
   "source": [
    "removed_fruit = fruits.pop()\n",
    "print(removed_fruit)"
   ]
  },
  {
   "cell_type": "code",
   "execution_count": 40,
   "metadata": {},
   "outputs": [
    {
     "data": {
      "text/plain": [
       "['pear',\n",
       " 'mango',\n",
       " 'Banana',\n",
       " 'Guava',\n",
       " 'Orange',\n",
       " 'kiwi',\n",
       " 'grape',\n",
       " 'mango',\n",
       " 'mango',\n",
       " 'mango',\n",
       " 'pineapple',\n",
       " 'Almonds',\n",
       " 'cashew',\n",
       " 'walnut',\n",
       " 'Almonds',\n",
       " 'cashew']"
      ]
     },
     "execution_count": 40,
     "metadata": {},
     "output_type": "execute_result"
    }
   ],
   "source": [
    "fruits "
   ]
  },
  {
   "cell_type": "code",
   "execution_count": 41,
   "metadata": {},
   "outputs": [
    {
     "data": {
      "text/plain": [
       "['pear',\n",
       " 'mango',\n",
       " 'Banana',\n",
       " 'Guava',\n",
       " 'Orange',\n",
       " 'kiwi',\n",
       " 'grape',\n",
       " 'mango',\n",
       " 'mango',\n",
       " 'mango',\n",
       " 'pineapple',\n",
       " 'Almonds',\n",
       " 'cashew',\n",
       " 'walnut',\n",
       " 'Almonds',\n",
       " 'cashew']"
      ]
     },
     "execution_count": 41,
     "metadata": {},
     "output_type": "execute_result"
    }
   ],
   "source": [
    "fruits"
   ]
  },
  {
   "cell_type": "code",
   "execution_count": 42,
   "metadata": {},
   "outputs": [
    {
     "name": "stdout",
     "output_type": "stream",
     "text": [
      "List after removal: ['apple', 'orange', 'kiwi']\n"
     ]
    }
   ],
   "source": [
    "fruits = [\"apple\", \"banana\", \"orange\", \"kiwi\", \"banana\"]\n",
    "value_to_remove = \"banana\"\n",
    "index = 0\n",
    "while index < len(fruits):\n",
    "    if fruits[index] == value_to_remove:\n",
    "       \n",
    "        fruits.pop(index)\n",
    "    else:\n",
    "      \n",
    "        index += 1\n",
    "\n",
    "# Print the list after removal\n",
    "print(\"List after removal:\", fruits)\n"
   ]
  },
  {
   "cell_type": "code",
   "execution_count": null,
   "metadata": {},
   "outputs": [],
   "source": []
  }
 ],
 "metadata": {
  "kernelspec": {
   "display_name": "base",
   "language": "python",
   "name": "python3"
  },
  "language_info": {
   "codemirror_mode": {
    "name": "ipython",
    "version": 3
   },
   "file_extension": ".py",
   "mimetype": "text/x-python",
   "name": "python",
   "nbconvert_exporter": "python",
   "pygments_lexer": "ipython3",
   "version": "3.11.5"
  }
 },
 "nbformat": 4,
 "nbformat_minor": 2
}
