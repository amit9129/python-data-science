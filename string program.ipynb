{
 "cells": [
  {
   "cell_type": "code",
   "execution_count": null,
   "metadata": {},
   "outputs": [],
   "source": [
    "str = 'digipodium'\n"
   ]
  },
  {
   "cell_type": "code",
   "execution_count": null,
   "metadata": {},
   "outputs": [],
   "source": [
    "print('str = ', str)"
   ]
  },
  {
   "cell_type": "code",
   "execution_count": null,
   "metadata": {},
   "outputs": [],
   "source": [
    "#getting a slice\n",
    "\n",
    "s = 'digipodium'\n",
    "slice = s[4:7]\n",
    "print(slice)"
   ]
  },
  {
   "cell_type": "code",
   "execution_count": null,
   "metadata": {},
   "outputs": [],
   "source": [
    "s = 'digipodium'\n",
    "slice1 = s[0:4]\n",
    "slice2 = s[:6]\n",
    "print(slice1)\n",
    "print(slice2)"
   ]
  },
  {
   "cell_type": "code",
   "execution_count": null,
   "metadata": {},
   "outputs": [],
   "source": [
    "# Getting a slice\n",
    "\n",
    "s = 'digipodium'\n",
    "slice = s[4:len(s)]\n",
    "slice2 = s[4:-1]\n",
    "print(slice1)\n",
    "print(slice2)\n"
   ]
  },
  {
   "cell_type": "code",
   "execution_count": null,
   "metadata": {},
   "outputs": [],
   "source": [
    "\n",
    "\n",
    "x = chr(56) # convert integer to string char\n",
    "print(x)\n"
   ]
  },
  {
   "cell_type": "code",
   "execution_count": null,
   "metadata": {},
   "outputs": [],
   "source": [
    "print(type(x))"
   ]
  },
  {
   "cell_type": "code",
   "execution_count": 1,
   "metadata": {},
   "outputs": [
    {
     "name": "stdout",
     "output_type": "stream",
     "text": [
      "65\n"
     ]
    }
   ],
   "source": [
    "x = ord('A') # Convert a char to integer\n",
    "print(x)"
   ]
  },
  {
   "cell_type": "code",
   "execution_count": null,
   "metadata": {},
   "outputs": [],
   "source": [
    "print(type(x))"
   ]
  },
  {
   "cell_type": "code",
   "execution_count": null,
   "metadata": {},
   "outputs": [],
   "source": [
    "my_string  = 'hello'\n",
    "print(my_string)"
   ]
  },
  {
   "cell_type": "code",
   "execution_count": null,
   "metadata": {},
   "outputs": [],
   "source": [
    "my_string = 'hello world'\n",
    "print(my_string)"
   ]
  },
  {
   "cell_type": "code",
   "execution_count": null,
   "metadata": {},
   "outputs": [],
   "source": [
    "my_string = '''hello'''\n",
    "\n",
    "print(my_string)"
   ]
  },
  {
   "cell_type": "code",
   "execution_count": null,
   "metadata": {},
   "outputs": [],
   "source": [
    "my_string = \"\"\"hello, welcome\n",
    "to world of python \"\"\"\n",
    "print(my_string)"
   ]
  },
  {
   "cell_type": "code",
   "execution_count": null,
   "metadata": {},
   "outputs": [],
   "source": [
    "str = 'digipodium'\n",
    "print('str =',  str)"
   ]
  },
  {
   "cell_type": "code",
   "execution_count": null,
   "metadata": {},
   "outputs": [],
   "source": [
    "print('str[0] =', str[0])\n"
   ]
  },
  {
   "cell_type": "code",
   "execution_count": null,
   "metadata": {},
   "outputs": [],
   "source": [
    "print('str = ', str[1])"
   ]
  },
  {
   "cell_type": "code",
   "execution_count": null,
   "metadata": {},
   "outputs": [],
   "source": [
    "print('str = ', str[2])"
   ]
  },
  {
   "cell_type": "code",
   "execution_count": null,
   "metadata": {},
   "outputs": [],
   "source": [
    "print('str = ', str[3])"
   ]
  },
  {
   "cell_type": "code",
   "execution_count": null,
   "metadata": {},
   "outputs": [],
   "source": [
    "print('str = ', str[-1])"
   ]
  },
  {
   "cell_type": "code",
   "execution_count": null,
   "metadata": {},
   "outputs": [],
   "source": [
    "s = 'digipodiumIamstudent '\n",
    "slice1 = s[-7:]\n",
    "print(slice1)"
   ]
  },
  {
   "cell_type": "code",
   "execution_count": null,
   "metadata": {},
   "outputs": [],
   "source": [
    "Sentence = 'the quick brown fox jumps over'\n",
    "print(Sentence[6:])"
   ]
  },
  {
   "cell_type": "code",
   "execution_count": null,
   "metadata": {},
   "outputs": [],
   "source": [
    "amt = \"$12300\"\n",
    "int(amt[1:])"
   ]
  },
  {
   "cell_type": "code",
   "execution_count": null,
   "metadata": {},
   "outputs": [],
   "source": [
    "uname = \"@pankajkumar\"\n",
    "uname[1:-3]"
   ]
  },
  {
   "cell_type": "markdown",
   "metadata": {},
   "source": [
    "Method\n"
   ]
  },
  {
   "cell_type": "code",
   "execution_count": 2,
   "metadata": {},
   "outputs": [
    {
     "name": "stdout",
     "output_type": "stream",
     "text": [
      "original:DATA SCIENCE\n",
      "original : data science\n",
      "original : Data science\n"
     ]
    }
   ],
   "source": [
    "words = 'data Science'\n",
    "words = words.upper()\n",
    "words2 = words.lower()\n",
    "words3 = words.capitalize()\n",
    "print(f'original:{words}')\n",
    "print(f'original : {words2}')\n",
    "print(f'original : {words3}')"
   ]
  },
  {
   "cell_type": "code",
   "execution_count": 3,
   "metadata": {},
   "outputs": [
    {
     "name": "stdout",
     "output_type": "stream",
     "text": [
      "13\n"
     ]
    }
   ],
   "source": [
    "Sentence = \"data science is the most important\"\n",
    "print(Sentence.find('is'))"
   ]
  },
  {
   "cell_type": "code",
   "execution_count": 8,
   "metadata": {},
   "outputs": [
    {
     "name": "stdout",
     "output_type": "stream",
     "text": [
      "-1\n"
     ]
    }
   ],
   "source": [
    "print(Sentence.find('science',6))"
   ]
  },
  {
   "cell_type": "code",
   "execution_count": 5,
   "metadata": {},
   "outputs": [
    {
     "name": "stdout",
     "output_type": "stream",
     "text": [
      "12\n"
     ]
    }
   ],
   "source": [
    "Sentence = 'the quick brown fox jumps over the lazy dog'\n",
    "print(Sentence.find('own'))"
   ]
  },
  {
   "cell_type": "code",
   "execution_count": 6,
   "metadata": {},
   "outputs": [
    {
     "name": "stdout",
     "output_type": "stream",
     "text": [
      "40\n"
     ]
    }
   ],
   "source": [
    "print(Sentence.find('dog'))"
   ]
  },
  {
   "cell_type": "code",
   "execution_count": 7,
   "metadata": {},
   "outputs": [
    {
     "name": "stdout",
     "output_type": "stream",
     "text": [
      "-1\n"
     ]
    }
   ],
   "source": [
    "print(Sentence.find('red'))"
   ]
  },
  {
   "cell_type": "code",
   "execution_count": 12,
   "metadata": {},
   "outputs": [
    {
     "name": "stdout",
     "output_type": "stream",
     "text": [
      "the quick briwn fix jumps iver the lazy dig\n",
      "the quick green fox jumps over the lazy dog\n",
      "the quick brown goat kick over the lazy goat\n"
     ]
    }
   ],
   "source": [
    "print(Sentence.replace('o', 'i'))\n",
    "print(Sentence.replace('brown', 'green'))\n",
    "print(Sentence.replace('fox', 'dog').replace('dog','goat').replace('jumps','kick'))"
   ]
  },
  {
   "cell_type": "markdown",
   "metadata": {},
   "source": [
    "count\n",
    "split\n",
    "join"
   ]
  },
  {
   "cell_type": "code",
   "execution_count": 13,
   "metadata": {},
   "outputs": [
    {
     "name": "stdout",
     "output_type": "stream",
     "text": [
      "1\n",
      "5\n",
      "0\n"
     ]
    }
   ],
   "source": [
    "story = 'once there was kning named Arthur,who wasa great king'\n",
    "print(story.count('king'))\n",
    "print(story.count('a'))\n",
    "print(story.count('queen'))"
   ]
  },
  {
   "cell_type": "code",
   "execution_count": 14,
   "metadata": {},
   "outputs": [
    {
     "name": "stdout",
     "output_type": "stream",
     "text": [
      "['once', 'there', 'was', 'kning', 'named', 'Arthur,who', 'wasa', 'great', 'king']\n",
      "['once there was kning named Arthur', 'who wasa great king']\n"
     ]
    }
   ],
   "source": [
    "print(story.split())\n",
    "print(story.split(','))"
   ]
  },
  {
   "cell_type": "code",
   "execution_count": 15,
   "metadata": {},
   "outputs": [
    {
     "name": "stdout",
     "output_type": "stream",
     "text": [
      "['johny johny johny,Yes Papa', 'Eating sugar? No paper', 'telling lies?   No paper', 'one your mouth Ha! ha! ha! ha']\n",
      "['johny', 'johny', 'johny,Yes', 'Papa', 'Eating', 'sugar?', 'No', 'paper', 'telling', 'lies?', 'No', 'paper', 'one', 'your', 'mouth', 'Ha!', 'ha!', 'ha!', 'ha']\n"
     ]
    }
   ],
   "source": [
    "poem = '''johny johny johny,Yes Papa\n",
    "Eating sugar? No paper\n",
    "telling lies?   No paper\n",
    "one your mouth Ha! ha! ha! ha'''\n",
    "print(poem.splitlines())\n",
    "print(poem.split())"
   ]
  },
  {
   "cell_type": "code",
   "execution_count": 16,
   "metadata": {},
   "outputs": [
    {
     "name": "stdout",
     "output_type": "stream",
     "text": [
      "C:/Users:/Admins:/desktop:/Pythons:/Python.txt\n",
      "C:😀Users:😀Admins:😀desktop:😀Pythons:😀Python.txt\n",
      "C:,Users:,Admins:,desktop:,Pythons:,Python.txt\n"
     ]
    }
   ],
   "source": [
    "pathlist= ['C:' , 'Users:' , 'Admins:' ,'desktop:' , 'Pythons:' , 'Python.txt']\n",
    "print(\"/\".join(pathlist))\n",
    "print(\"😀\". join(pathlist))\n",
    "print(\",\" . join(pathlist))\n"
   ]
  },
  {
   "cell_type": "code",
   "execution_count": 23,
   "metadata": {},
   "outputs": [],
   "source": [
    "import os"
   ]
  },
  {
   "cell_type": "code",
   "execution_count": 25,
   "metadata": {},
   "outputs": [
    {
     "name": "stdout",
     "output_type": "stream",
     "text": [
      "Total items = 13\n"
     ]
    }
   ],
   "source": [
    "content = os.listdir('C:/Users/amit/download/')\n",
    "print(f'Total items = {len(content)}')"
   ]
  },
  {
   "cell_type": "code",
   "execution_count": 26,
   "metadata": {},
   "outputs": [
    {
     "name": "stdout",
     "output_type": "stream",
     "text": [
      "AMIT KUMAR SINGH.pdf\n",
      "CAN_26054283_3418540.pdf\n",
      "daniel-olah-5_eRcisHc2c-unsplash.jpg\n",
      "Data Science Training - Certificate of Completion.pdf\n",
      "desktop.ini\n",
      "Git-2.43.0-64-bit.exe\n",
      "IMG_20200619_105553_080.jpg\n",
      "jpeg-optimizer_20230930_095547 (1).jpg\n",
      "laptop-lock-screen-npxrqd76loawe3ti.jpg\n",
      "Miniconda3-latest-Windows-x86_64.exe\n",
      "SYNOPSIS.pdf\n",
      "Telegram Desktop\n",
      "v2osk-Deiuc_XHk_I-unsplash.jpg\n"
     ]
    }
   ],
   "source": [
    "for item in content:\n",
    "     print(item)\n"
   ]
  },
  {
   "cell_type": "code",
   "execution_count": 27,
   "metadata": {},
   "outputs": [
    {
     "name": "stdout",
     "output_type": "stream",
     "text": [
      "AMIT KUMAR SINGH.pdf\n",
      "CAN_26054283_3418540.pdf\n",
      "Data Science Training - Certificate of Completion.pdf\n",
      "SYNOPSIS.pdf\n"
     ]
    }
   ],
   "source": [
    "for item in content:\n",
    "        if (item.endswith('.pdf')):\n",
    "                print(item)"
   ]
  },
  {
   "cell_type": "code",
   "execution_count": 31,
   "metadata": {},
   "outputs": [
    {
     "name": "stdout",
     "output_type": "stream",
     "text": [
      "True\n",
      "True\n",
      "False\n",
      "True\n",
      "False\n",
      "False\n",
      "False\n",
      "False\n",
      "False\n",
      "False\n",
      "True\n",
      "False\n",
      "False\n",
      "------------------------------------------------------------\n",
      "total exe file = 13\n"
     ]
    }
   ],
   "source": [
    "total = 0 \n",
    "for item in content:\n",
    "    print(item.endswith('.pdf'))\n",
    "    total += 1\n",
    "print('------'*10)\n",
    "print(f'total exe file = {total}')"
   ]
  },
  {
   "cell_type": "code",
   "execution_count": 32,
   "metadata": {},
   "outputs": [
    {
     "name": "stdout",
     "output_type": "stream",
     "text": [
      "False\n",
      "False\n",
      "False\n",
      "False\n",
      "False\n",
      "False\n",
      "False\n",
      "False\n",
      "False\n",
      "False\n",
      "False\n",
      "False\n",
      "False\n",
      "------------------------------------------------------------\n",
      "total exe file = 13\n"
     ]
    }
   ],
   "source": [
    "total = 0 \n",
    "for item in content:\n",
    "    print(item.startswith('.python'))\n",
    "    total += 1\n",
    "print('------'*10)\n",
    "print(f'total exe file = {total}')"
   ]
  },
  {
   "cell_type": "code",
   "execution_count": null,
   "metadata": {},
   "outputs": [],
   "source": []
  }
 ],
 "metadata": {
  "kernelspec": {
   "display_name": "base",
   "language": "python",
   "name": "python3"
  },
  "language_info": {
   "codemirror_mode": {
    "name": "ipython",
    "version": 3
   },
   "file_extension": ".py",
   "mimetype": "text/x-python",
   "name": "python",
   "nbconvert_exporter": "python",
   "pygments_lexer": "ipython3",
   "version": "3.11.5"
  }
 },
 "nbformat": 4,
 "nbformat_minor": 2
}
