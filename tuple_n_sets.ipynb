{
 "cells": [
  {
   "cell_type": "code",
   "execution_count": 2,
   "metadata": {},
   "outputs": [
    {
     "name": "stdout",
     "output_type": "stream",
     "text": [
      "(1, 2, 3)\n",
      "(2, 5, 6)\n",
      "<class 'tuple'>\n"
     ]
    }
   ],
   "source": [
    "x = (1,2,3)\n",
    "print(x)\n",
    "\n",
    "y = 2,5,6\n",
    "print(y)\n",
    "print(type(y))"
   ]
  },
  {
   "cell_type": "code",
   "execution_count": 3,
   "metadata": {},
   "outputs": [
    {
     "name": "stdout",
     "output_type": "stream",
     "text": [
      "1\n",
      "2\n",
      "3\n"
     ]
    }
   ],
   "source": [
    "for i in x:\n",
    "    print(i)"
   ]
  },
  {
   "cell_type": "markdown",
   "metadata": {},
   "source": [
    "Tuples are immutable once fixed does not change"
   ]
  },
  {
   "cell_type": "code",
   "execution_count": 6,
   "metadata": {},
   "outputs": [
    {
     "name": "stdout",
     "output_type": "stream",
     "text": [
      "(1, 2, 3, 4, 5, 6, 5, 6, 3, 2, 5, 7, 9, 8, 9, 6)\n",
      "(1, 2, 3, 4, 5, 6, 5, 6, 3, 2, 5)\n",
      "(8, 9, 6)\n"
     ]
    }
   ],
   "source": [
    "a = 1,2,3,4,5,6,5,6,3,2,5,7,9,8,9,6\n",
    "print(a)\n",
    "print(a[:-5])\n",
    "print(a[-3:])"
   ]
  },
  {
   "cell_type": "code",
   "execution_count": 8,
   "metadata": {},
   "outputs": [
    {
     "name": "stdout",
     "output_type": "stream",
     "text": [
      "1\n",
      "4\n",
      "5\n"
     ]
    }
   ],
   "source": [
    "# tuple has only 2 methods,count and index\n",
    "\n",
    "print(a.count(1))\n",
    "print(a.index(5))\n",
    "print(a.index(6))"
   ]
  },
  {
   "cell_type": "markdown",
   "metadata": {},
   "source": [
    "Sets"
   ]
  },
  {
   "cell_type": "code",
   "execution_count": 22,
   "metadata": {},
   "outputs": [
    {
     "name": "stdout",
     "output_type": "stream",
     "text": [
      "{1, 2, 3, 4, 5}\n",
      "{'custard apple', 'pomegranate', 'banana', 'apple', 'orange', 'dragon fruit', 'cherry'}\n",
      "{'guava', 'pomegranate', 'banana', 'orange', 'cherry', 'custard apple', 'apple', 'dragon fruit', 'kiwi'}\n",
      "{'guava', 'pomegranate', 'banana', 'cherry', 'custard apple', 'apple', 'dragon fruit', 'kiwi'}\n"
     ]
    }
   ],
   "source": [
    "a = {1,2,3,4,5,2,3}\n",
    "print(a) # Set will remove duplicates\n",
    "b = {'apple', 'banana', 'orange', 'cherry', \n",
    "     'custard apple', 'pomegranate', 'dragon fruit'}\n",
    "print(b)\n",
    "\n",
    "b.add('kiwi')\n",
    "b.add('guava')\n",
    "\n",
    "print(b)\n",
    "\n",
    "b.discard('orange')\n",
    "print(b)\n"
   ]
  },
  {
   "cell_type": "markdown",
   "metadata": {},
   "source": [
    "OPERATIONS ON SETS"
   ]
  },
  {
   "cell_type": "code",
   "execution_count": 25,
   "metadata": {},
   "outputs": [
    {
     "name": "stdout",
     "output_type": "stream",
     "text": [
      "{1, 2, 3, 4, 5, 6, 7, 8}\n",
      "{4, 5}\n"
     ]
    }
   ],
   "source": [
    "C = {1,2,3,4,5}\n",
    "y = {4,5,6,7,8}\n",
    "\n",
    "print(C|y)\n",
    "\n"
   ]
  },
  {
   "cell_type": "code",
   "execution_count": 28,
   "metadata": {},
   "outputs": [
    {
     "name": "stdout",
     "output_type": "stream",
     "text": [
      "{4, 5}\n"
     ]
    }
   ],
   "source": [
    "# intersection\n",
    "x = {1, 2, 3, 4, 5}\n",
    "y = {4, 5, 6, 7, 8}\n",
    "\n",
    "print(C&y)"
   ]
  },
  {
   "cell_type": "code",
   "execution_count": 29,
   "metadata": {},
   "outputs": [
    {
     "name": "stdout",
     "output_type": "stream",
     "text": [
      "{1, 2, 3}\n",
      "{1, 2, 3}\n",
      "{8, 6, 7}\n"
     ]
    }
   ],
   "source": [
    "# difference\n",
    "x = {1, 2, 3, 4, 5}\n",
    "y = {4, 5, 6, 7, 8}\n",
    "\n",
    "print(x - y)                 # Using the - operator\n",
    "print(x.difference(y))       # Using the difference() method\n",
    "print(y - x)                 # Difference in the opposite direction\n"
   ]
  },
  {
   "cell_type": "code",
   "execution_count": 30,
   "metadata": {},
   "outputs": [
    {
     "name": "stdout",
     "output_type": "stream",
     "text": [
      "{1, 2, 3, 6, 7, 8}\n",
      "{1, 2, 3, 6, 7, 8}\n"
     ]
    }
   ],
   "source": [
    "x = {1, 2, 3, 4, 5}\n",
    "y = {4, 5, 6, 7, 8}\n",
    "\n",
    "print(x ^ y)  # element in y but not in both\n",
    "print(x.symmetric_difference(y))"
   ]
  },
  {
   "cell_type": "markdown",
   "metadata": {},
   "source": [
    "inter conversion of list , tuple, and set"
   ]
  },
  {
   "cell_type": "code",
   "execution_count": 33,
   "metadata": {},
   "outputs": [
    {
     "name": "stdout",
     "output_type": "stream",
     "text": [
      "<class 'list'>\n"
     ]
    }
   ],
   "source": [
    "x = [1,2,3,4,5,6,7,8,9,10,11,12,13,14]\n",
    "print(type(x))"
   ]
  },
  {
   "cell_type": "code",
   "execution_count": 34,
   "metadata": {},
   "outputs": [],
   "source": [
    "x = set(x)"
   ]
  },
  {
   "cell_type": "code",
   "execution_count": 35,
   "metadata": {},
   "outputs": [
    {
     "name": "stdout",
     "output_type": "stream",
     "text": [
      "<class 'set'>\n"
     ]
    }
   ],
   "source": [
    "print(type(x))"
   ]
  },
  {
   "cell_type": "code",
   "execution_count": 36,
   "metadata": {},
   "outputs": [
    {
     "name": "stdout",
     "output_type": "stream",
     "text": [
      "{1, 2, 3, 4, 5, 6, 7, 8, 9, 10, 11, 12, 13, 14}\n"
     ]
    }
   ],
   "source": [
    "print((x))"
   ]
  },
  {
   "cell_type": "code",
   "execution_count": 37,
   "metadata": {},
   "outputs": [],
   "source": [
    "x = tuple(x)"
   ]
  },
  {
   "cell_type": "code",
   "execution_count": 38,
   "metadata": {},
   "outputs": [
    {
     "name": "stdout",
     "output_type": "stream",
     "text": [
      "<class 'tuple'>\n"
     ]
    }
   ],
   "source": [
    "print(type(x))"
   ]
  },
  {
   "cell_type": "code",
   "execution_count": 40,
   "metadata": {},
   "outputs": [
    {
     "name": "stdout",
     "output_type": "stream",
     "text": [
      "<class 'list'>\n"
     ]
    }
   ],
   "source": [
    "x = list(x)\n",
    "print(type(x))"
   ]
  }
 ],
 "metadata": {
  "kernelspec": {
   "display_name": "base",
   "language": "python",
   "name": "python3"
  },
  "language_info": {
   "codemirror_mode": {
    "name": "ipython",
    "version": 3
   },
   "file_extension": ".py",
   "mimetype": "text/x-python",
   "name": "python",
   "nbconvert_exporter": "python",
   "pygments_lexer": "ipython3",
   "version": "3.11.5"
  }
 },
 "nbformat": 4,
 "nbformat_minor": 2
}
