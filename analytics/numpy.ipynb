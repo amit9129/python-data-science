{
 "cells": [
  {
   "cell_type": "code",
   "execution_count": 1,
   "metadata": {},
   "outputs": [],
   "source": [
    "import numpy as np"
   ]
  },
  {
   "cell_type": "markdown",
   "metadata": {},
   "source": [
    "Create matrix"
   ]
  },
  {
   "cell_type": "code",
   "execution_count": 2,
   "metadata": {},
   "outputs": [
    {
     "name": "stdout",
     "output_type": "stream",
     "text": [
      "[1 2 3 4]\n",
      "<class 'numpy.ndarray'>\n"
     ]
    }
   ],
   "source": [
    "x1 = np.array([1,2,3,4])\n",
    "print(x1)\n",
    "print(type(x1))"
   ]
  },
  {
   "cell_type": "code",
   "execution_count": 3,
   "metadata": {},
   "outputs": [
    {
     "name": "stdout",
     "output_type": "stream",
     "text": [
      "<class 'numpy.ndarray'>\n",
      "[[1 2 3]\n",
      " [5 6 7]]\n"
     ]
    }
   ],
   "source": [
    "x2 = np.array([\n",
    "    [1,2,3],\n",
    "    [5,6,7]\n",
    "])\n",
    "print(type(x2))\n",
    "print(x2)"
   ]
  },
  {
   "cell_type": "markdown",
   "metadata": {},
   "source": [
    "method to create a matrix\n",
    " -> arange() - start,stop,step\n",
    " -> linspace() - start,stop,num of elements\n",
    "\n",
    " =>nD\n",
    " -> random.randint()"
   ]
  },
  {
   "cell_type": "code",
   "execution_count": 4,
   "metadata": {},
   "outputs": [
    {
     "name": "stdout",
     "output_type": "stream",
     "text": [
      "[10.  10.5 11.  11.5 12.  12.5 13.  13.5 14.  14.5 15.  15.5 16.  16.5\n",
      " 17.  17.5 18.  18.5 19.  19.5 20.  20.5 21.  21.5 22.  22.5 23.  23.5\n",
      " 24.  24.5 25.  25.5 26.  26.5 27.  27.5 28.  28.5 29.  29.5 30.  30.5\n",
      " 31.  31.5 32.  32.5 33.  33.5 34.  34.5 35.  35.5 36.  36.5 37.  37.5\n",
      " 38.  38.5 39.  39.5 40.  40.5 41.  41.5 42.  42.5 43.  43.5 44.  44.5\n",
      " 45.  45.5 46.  46.5 47.  47.5 48.  48.5 49.  49.5 50.  50.5]\n",
      "(82,)\n"
     ]
    }
   ],
   "source": [
    "a = np.arange(10,51,0.5)\n",
    "print(a)\n",
    "print(a.shape) # give the number of items in the array"
   ]
  },
  {
   "cell_type": "code",
   "execution_count": 5,
   "metadata": {},
   "outputs": [
    {
     "name": "stdout",
     "output_type": "stream",
     "text": [
      "[10.         10.1010101  10.2020202  10.3030303  10.4040404  10.50505051\n",
      " 10.60606061 10.70707071 10.80808081 10.90909091 11.01010101 11.11111111\n",
      " 11.21212121 11.31313131 11.41414141 11.51515152 11.61616162 11.71717172\n",
      " 11.81818182 11.91919192 12.02020202 12.12121212 12.22222222 12.32323232\n",
      " 12.42424242 12.52525253 12.62626263 12.72727273 12.82828283 12.92929293\n",
      " 13.03030303 13.13131313 13.23232323 13.33333333 13.43434343 13.53535354\n",
      " 13.63636364 13.73737374 13.83838384 13.93939394 14.04040404 14.14141414\n",
      " 14.24242424 14.34343434 14.44444444 14.54545455 14.64646465 14.74747475\n",
      " 14.84848485 14.94949495 15.05050505 15.15151515 15.25252525 15.35353535\n",
      " 15.45454545 15.55555556 15.65656566 15.75757576 15.85858586 15.95959596\n",
      " 16.06060606 16.16161616 16.26262626 16.36363636 16.46464646 16.56565657\n",
      " 16.66666667 16.76767677 16.86868687 16.96969697 17.07070707 17.17171717\n",
      " 17.27272727 17.37373737 17.47474747 17.57575758 17.67676768 17.77777778\n",
      " 17.87878788 17.97979798 18.08080808 18.18181818 18.28282828 18.38383838\n",
      " 18.48484848 18.58585859 18.68686869 18.78787879 18.88888889 18.98989899\n",
      " 19.09090909 19.19191919 19.29292929 19.39393939 19.49494949 19.5959596\n",
      " 19.6969697  19.7979798  19.8989899  20.        ]\n"
     ]
    }
   ],
   "source": [
    "b = np.linspace(10,20,100)\n",
    "\n",
    "print(b)\n"
   ]
  },
  {
   "cell_type": "code",
   "execution_count": 6,
   "metadata": {},
   "outputs": [
    {
     "name": "stdout",
     "output_type": "stream",
     "text": [
      "[[ -6 -23 -87  20  46]\n",
      " [ 42 -63 -16  51  82]\n",
      " [-38 -47 -89 -62 -55]\n",
      " [-23 -67  71  97  28]\n",
      " [ 11  23 -85  -2  -9]]\n"
     ]
    }
   ],
   "source": [
    "c = np.random.randint(-100,100,(5,5))\n",
    "print(c)"
   ]
  },
  {
   "cell_type": "code",
   "execution_count": 7,
   "metadata": {},
   "outputs": [
    {
     "name": "stdout",
     "output_type": "stream",
     "text": [
      "[[2 4 6]\n",
      " [1 3 5]]\n",
      "[[1 2]\n",
      " [4 5]\n",
      " [3 2]]\n",
      "[[36 36]\n",
      " [28 27]]\n"
     ]
    }
   ],
   "source": [
    "a = np.array([\n",
    "    [2,4,6],\n",
    "    [1,3,5]\n",
    "])\n",
    "b = np.array([\n",
    "    [1,2],\n",
    "    [4,5],\n",
    "    [3,2]\n",
    "])\n",
    "print(a,b, sep = \"\\n\")\n",
    "print(a@b)\n"
   ]
  },
  {
   "cell_type": "markdown",
   "metadata": {},
   "source": [
    "Properties\n"
   ]
  },
  {
   "cell_type": "code",
   "execution_count": 8,
   "metadata": {},
   "outputs": [
    {
     "name": "stdout",
     "output_type": "stream",
     "text": [
      "[[2 4 6]\n",
      " [1 3 5]]\n"
     ]
    }
   ],
   "source": [
    "print(a)"
   ]
  },
  {
   "cell_type": "code",
   "execution_count": 9,
   "metadata": {},
   "outputs": [
    {
     "name": "stdout",
     "output_type": "stream",
     "text": [
      "size\n",
      "6\n",
      "shape\n",
      "(2, 3)\n",
      "dimension\n",
      "2\n",
      "dtyple\n",
      "int32\n"
     ]
    }
   ],
   "source": [
    "print('size')\n",
    "print(a.size)\n",
    "print('shape')\n",
    "print(a.shape)\n",
    "print('dimension' )\n",
    "print(a.ndim)\n",
    "print('dtyple')\n",
    "print(a.dtype)"
   ]
  },
  {
   "cell_type": "code",
   "execution_count": 10,
   "metadata": {},
   "outputs": [
    {
     "name": "stdout",
     "output_type": "stream",
     "text": [
      "[[16 77 45 44 88]\n",
      " [15 90 79 28 88]\n",
      " [80 97 28 69 22]\n",
      " [65 28 19 96 46]]\n",
      "[[16 77 45 44]\n",
      " [88 15 90 79]\n",
      " [28 88 80 97]\n",
      " [28 69 22 65]\n",
      " [28 19 96 46]]\n",
      "[[16 77 45 44 88 15 90 79 28 88 80 97 28 69 22 65 28 19 96 46]]\n",
      "[[16]\n",
      " [77]\n",
      " [45]\n",
      " [44]\n",
      " [88]\n",
      " [15]\n",
      " [90]\n",
      " [79]\n",
      " [28]\n",
      " [88]\n",
      " [80]\n",
      " [97]\n",
      " [28]\n",
      " [69]\n",
      " [22]\n",
      " [65]\n",
      " [28]\n",
      " [19]\n",
      " [96]\n",
      " [46]]\n",
      "[[16 77 45 44 88 15 90 79 28 88]\n",
      " [80 97 28 69 22 65 28 19 96 46]]\n",
      "[[16 77]\n",
      " [45 44]\n",
      " [88 15]\n",
      " [90 79]\n",
      " [28 88]\n",
      " [80 97]\n",
      " [28 69]\n",
      " [22 65]\n",
      " [28 19]\n",
      " [96 46]]\n"
     ]
    }
   ],
   "source": [
    "x = np.random.randint(10,99, (4,5))\n",
    "print(x)\n",
    "print(x.reshape(5,4))\n",
    "print(x.reshape(1,20))\n",
    "print(x.reshape(20,1))\n",
    "print(x.reshape(2,10))\n",
    "print(x.reshape(10,2))"
   ]
  },
  {
   "cell_type": "code",
   "execution_count": 11,
   "metadata": {},
   "outputs": [
    {
     "name": "stdout",
     "output_type": "stream",
     "text": [
      "[16 77 45 44 88 15 90 79 28 88 80 97 28 69 22 65 28 19 96 46]\n"
     ]
    }
   ],
   "source": [
    "print(x.flatten()) # n dimensional array to 1 dimensional array"
   ]
  },
  {
   "cell_type": "code",
   "execution_count": 12,
   "metadata": {},
   "outputs": [
    {
     "name": "stdout",
     "output_type": "stream",
     "text": [
      "[[15 62]\n",
      " [12 80]\n",
      " [25 55]\n",
      " [77 93]\n",
      " [47 85]]\n"
     ]
    }
   ],
   "source": [
    "y = np.random.randint(10,99, (5,2))\n",
    "print(y)"
   ]
  },
  {
   "cell_type": "code",
   "execution_count": 13,
   "metadata": {},
   "outputs": [
    {
     "data": {
      "text/plain": [
       "array([[15, 12, 25, 77, 47],\n",
       "       [62, 80, 55, 93, 85]])"
      ]
     },
     "execution_count": 13,
     "metadata": {},
     "output_type": "execute_result"
    }
   ],
   "source": [
    "y.T"
   ]
  },
  {
   "cell_type": "markdown",
   "metadata": {},
   "source": [
    "maths and stats\n"
   ]
  },
  {
   "cell_type": "code",
   "execution_count": 14,
   "metadata": {},
   "outputs": [
    {
     "name": "stdout",
     "output_type": "stream",
     "text": [
      "[[3 6]\n",
      " [4 7]]\n",
      "[[ 1  2]\n",
      " [-2 -1]]\n",
      "[[ 2  8]\n",
      " [ 3 12]]\n",
      "[[2.         2.        ]\n",
      " [0.33333333 0.75      ]]\n",
      "[[14 20]\n",
      " [10 14]]\n"
     ]
    }
   ],
   "source": [
    "a = np.array([\n",
    "    [2,4],\n",
    "    [1,3]\n",
    "])\n",
    "\n",
    "b = np.array([\n",
    "    [1,2],\n",
    "    [3,4]\n",
    "])\n",
    "print(a+b)\n",
    "print(a-b)\n",
    "print(a*b)\n",
    "print(a/b)\n",
    "print(a @ b)"
   ]
  },
  {
   "cell_type": "code",
   "execution_count": 15,
   "metadata": {},
   "outputs": [
    {
     "name": "stdout",
     "output_type": "stream",
     "text": [
      "551\n",
      "[176 375]\n",
      "[ 77  92  80 170 132]\n"
     ]
    }
   ],
   "source": [
    "print(y.sum()) # summation of all elements\n",
    "print(y.sum(axis=0)) # summation of each column\n",
    "print(y.sum(axis=1)) # summation of each row\n"
   ]
  },
  {
   "cell_type": "code",
   "execution_count": 16,
   "metadata": {},
   "outputs": [
    {
     "name": "stdout",
     "output_type": "stream",
     "text": [
      "93 <built-in method min of numpy.ndarray object at 0x00000225CCD2C570>\n",
      "7 2\n"
     ]
    }
   ],
   "source": [
    "print(y.max(), y.min) # maximum\n",
    "print(y.argmax(), y.argmin()) "
   ]
  },
  {
   "cell_type": "markdown",
   "metadata": {},
   "source": [
    "Slicing\n",
    "-----------\n",
    " -> 1D array\n",
    " -----------------\n",
    " x(start:stop,step)\n",
    "\n",
    " -> 2D array\n",
    " ----------------\n",
    " x(rowstart:rowstop,rowstep, colstart:colstop:colstep)"
   ]
  },
  {
   "cell_type": "code",
   "execution_count": 23,
   "metadata": {},
   "outputs": [
    {
     "name": "stdout",
     "output_type": "stream",
     "text": [
      "[[48 62 53 93 59 54 51 92 45 49]\n",
      " [30 25 80 54 97 18 17 45 42 93]\n",
      " [45 35 46 83 36 43 68 18 69 87]\n",
      " [91 16 42 75 11 55 62 40 85 99]\n",
      " [68 49 73 52 78 12 26 60 79 48]\n",
      " [14 48 64 29 51 57 72 75 39 62]\n",
      " [72 90 14 68 16 73 61 87 98 56]\n",
      " [99 83 10 92 99 11 27 27 15 34]\n",
      " [15 79 52 86 78 80 85 35 59 85]\n",
      " [38 67 41 66 50 38 54 23 99 22]]\n"
     ]
    }
   ],
   "source": [
    "x = np.random.randint(10,100, (10,10))\n",
    "\n",
    "print(x)"
   ]
  },
  {
   "cell_type": "code",
   "execution_count": 30,
   "metadata": {},
   "outputs": [
    {
     "name": "stdout",
     "output_type": "stream",
     "text": [
      "48\n",
      "22\n",
      "[48 62 53 93 59 54 51 92 45 49]\n",
      "[38 67 41 66 50 38 54 23 99 22]\n",
      "[48 30 45 91 68 14 72 99 15 38]\n",
      "[49 93 87 99 48 62 56 34 85 22]\n",
      "[29 68 92 86 66]\n"
     ]
    }
   ],
   "source": [
    "print(x[0,0]) # first element \n",
    "print(x[-1,-1]) # second element\n",
    "print(x[0]) #first row \n",
    "print(x[-1]) # last roo\n",
    "print(x[:,0]) # first column\n",
    "print(x[:,-1]) # last column\n",
    "print(x[-5:,3]) # "
   ]
  }
 ],
 "metadata": {
  "kernelspec": {
   "display_name": "base",
   "language": "python",
   "name": "python3"
  },
  "language_info": {
   "codemirror_mode": {
    "name": "ipython",
    "version": 3
   },
   "file_extension": ".py",
   "mimetype": "text/x-python",
   "name": "python",
   "nbconvert_exporter": "python",
   "pygments_lexer": "ipython3",
   "version": "3.11.5"
  }
 },
 "nbformat": 4,
 "nbformat_minor": 2
}
