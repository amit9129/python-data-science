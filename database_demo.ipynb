{
 "cells": [
  {
   "cell_type": "code",
   "execution_count": 2,
   "metadata": {},
   "outputs": [],
   "source": [
    "from database import User ,Message \n",
    "from database import get_db,save_to_db"
   ]
  },
  {
   "cell_type": "markdown",
   "metadata": {},
   "source": [
    "adding some data to users and message"
   ]
  },
  {
   "cell_type": "code",
   "execution_count": 3,
   "metadata": {},
   "outputs": [
    {
     "name": "stdout",
     "output_type": "stream",
     "text": [
      "<database.User object at 0x0000014B539DD690> <database.User object at 0x0000014B539DD750> <database.User object at 0x0000014B539DE950> <database.User object at 0x0000014B539DEE10>\n"
     ]
    }
   ],
   "source": [
    "\n",
    "u1=User(name=\"alex\",email =\"alex@gmail.com\",password =\"123456\" )\n",
    "u2=User(name=\"ali\",email =\"ali@gmail.com\",password =\"675767\" )\n",
    "u3=User(name=\"lambu\",email =\"lambu@gmail.com\",password =\"167383\" )\n",
    "u4=User(name=\"sohard\",email =\"sohard@gmail.com\",password =\"897465\" )\n",
    "print(u1,u2,u3,u4)"
   ]
  },
  {
   "cell_type": "code",
   "execution_count": 4,
   "metadata": {},
   "outputs": [],
   "source": [
    "save_to_db(u1)\n",
    "save_to_db(u2)\n",
    "save_to_db(u3)\n",
    "save_to_db(u4)"
   ]
  },
  {
   "cell_type": "code",
   "execution_count": 11,
   "metadata": {},
   "outputs": [
    {
     "name": "stdout",
     "output_type": "stream",
     "text": [
      "<database.Message object at 0x00000241DA00CE10> <database.Message object at 0x00000241D9FBCE10> <database.Message object at 0x00000241D9FE4110> <database.Message object at 0x00000241D9FE4090> <database.Message object at 0x00000241D9FE4190>\n"
     ]
    }
   ],
   "source": [
    "\n",
    "m1 = Message(user_id=\"1\", message=\"hello\")\n",
    "m2 = Message(user_id=\"2\", message=\"heyy\")\n",
    "m3 = Message(user_id=\"8\", message=\"Good Morning\")\n",
    "m4 = Message(user_id=\"9\", message=\"how are you?\")\n",
    "m5 = Message(user_id=\"6\", message=\"get well soon\")\n",
    "print(m1,m2,m3,m4,m5)"
   ]
  },
  {
   "cell_type": "code",
   "execution_count": 12,
   "metadata": {},
   "outputs": [],
   "source": [
    "save_to_db(m1)\n",
    "save_to_db(m2)\n",
    "save_to_db(m3)\n",
    "save_to_db(m4)"
   ]
  },
  {
   "cell_type": "markdown",
   "metadata": {},
   "source": [
    "retrieving data from users and meassage"
   ]
  },
  {
   "cell_type": "code",
   "execution_count": 8,
   "metadata": {},
   "outputs": [
    {
     "name": "stdout",
     "output_type": "stream",
     "text": [
      "2\n",
      "ali\n",
      "ali@gmail.com\n",
      "675767\n",
      "2024-04-06 10:39:18.754818\n"
     ]
    },
    {
     "name": "stderr",
     "output_type": "stream",
     "text": [
      "C:\\Users\\amit\\AppData\\Local\\Temp\\ipykernel_14744\\1511869759.py:4: LegacyAPIWarning: The Query.get() method is considered legacy as of the 1.x series of SQLAlchemy and becomes a legacy construct in 2.0. The method is now available as Session.get() (deprecated since: 2.0) (Background on SQLAlchemy 2.0 at: https://sqlalche.me/e/b8d9)\n",
      "  user = db.query(User).get(uid)\n"
     ]
    }
   ],
   "source": [
    "db = get_db() # open database\n",
    "# get user by id \n",
    "uid = 2\n",
    "user = db.query(User).get(uid)\n",
    "print(user.id)\n",
    "print(user.name)\n",
    "print(user.email)\n",
    "print(user.password)\n",
    "print(user.created_at)\n",
    "db.close() # close database"
   ]
  },
  {
   "cell_type": "code",
   "execution_count": 9,
   "metadata": {},
   "outputs": [
    {
     "name": "stdout",
     "output_type": "stream",
     "text": [
      "1 alex alex@gmail.com\n",
      "2 ali ali@gmail.com\n",
      "3 lambu lambu@gmail.com\n",
      "4 sohard sohard@gmail.com\n"
     ]
    }
   ],
   "source": [
    "# select * from a table\n",
    "db = get_db()\n",
    "users = db.query(User).all()\n",
    "for user in users :\n",
    "    print (user.id,user.name,user.email)\n",
    "db.close()\n"
   ]
  },
  {
   "cell_type": "code",
   "execution_count": 10,
   "metadata": {},
   "outputs": [
    {
     "name": "stderr",
     "output_type": "stream",
     "text": [
      "C:\\Users\\amit\\AppData\\Local\\Temp\\ipykernel_14744\\790229700.py:4: LegacyAPIWarning: The Query.get() method is considered legacy as of the 1.x series of SQLAlchemy and becomes a legacy construct in 2.0. The method is now available as Session.get() (deprecated since: 2.0) (Background on SQLAlchemy 2.0 at: https://sqlalche.me/e/b8d9)\n",
      "  user = db.query(User).get(uid)\n"
     ]
    }
   ],
   "source": [
    "# delete user by id\n",
    "db = get_db()\n",
    "uid = 8\n",
    "user = db.query(User).get(uid)\n",
    "if user:\n",
    "    db.delete(user)\n",
    "    db.commit()\n",
    "db.close()"
   ]
  },
  {
   "cell_type": "code",
   "execution_count": null,
   "metadata": {},
   "outputs": [],
   "source": []
  }
 ],
 "metadata": {
  "kernelspec": {
   "display_name": "base",
   "language": "python",
   "name": "python3"
  },
  "language_info": {
   "codemirror_mode": {
    "name": "ipython",
    "version": 3
   },
   "file_extension": ".py",
   "mimetype": "text/x-python",
   "name": "python",
   "nbconvert_exporter": "python",
   "pygments_lexer": "ipython3",
   "version": "3.11.5"
  }
 },
 "nbformat": 4,
 "nbformat_minor": 2
}
